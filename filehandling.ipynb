{
 "cells": [
  {
   "cell_type": "code",
   "execution_count": 22,
   "id": "2ad53e90-7064-45d4-9e3e-681a443a82d0",
   "metadata": {},
   "outputs": [],
   "source": [
    "import os\n",
    "os.getcwd()#tells current working directory\n",
    "os.listdir('.')#lists all directories\n",
    "os.makedirs('./data',exist_ok=True)\n",
    "#create a folder in current directory '.' is used for making in the current directory\n",
    "#When exist_ok is set to True, it ensures that the function does not raise an error if the directory already exists. if false then error occurs.\n"
   ]
  },
  {
   "cell_type": "code",
   "execution_count": 24,
   "id": "3f0cf981-538a-404a-8be8-6e22176e632e",
   "metadata": {},
   "outputs": [
    {
     "data": {
      "text/plain": [
       "[]"
      ]
     },
     "execution_count": 24,
     "metadata": {},
     "output_type": "execute_result"
    }
   ],
   "source": [
    "os.listdir('./data')#contents in data is empty so showing nothing"
   ]
  },
  {
   "cell_type": "code",
   "execution_count": 28,
   "id": "f4887b71-b69d-4679-b9a2-e0b825453ea3",
   "metadata": {},
   "outputs": [
    {
     "data": {
      "text/plain": [
       "[]"
      ]
     },
     "execution_count": 28,
     "metadata": {},
     "output_type": "execute_result"
    }
   ],
   "source": [
    "os.listdir('./data') # absolute path"
   ]
  },
  {
   "cell_type": "code",
   "execution_count": 30,
   "id": "4ccbef33-e8b5-4b1f-9a9b-a09fff7c06a7",
   "metadata": {},
   "outputs": [],
   "source": [
    "url1 = 'https://gist.githubusercontent.com/aakashns/257f6e6c8719c17d0e498ea287d1a386/raw/7def9ef4234ddf0bc82f855ad67dac8b971852ef/loans1.txt'\n",
    "url2 = 'https://gist.githubusercontent.com/aakashns/257f6e6c8719c17d0e498ea287d1a386/raw/7def9ef4234ddf0bc82f855ad67dac8b971852ef/loans2.txt'\n",
    "url3 = 'https://gist.githubusercontent.com/aakashns/257f6e6c8719c17d0e498ea287d1a386/raw/7def9ef4234ddf0bc82f855ad67dac8b971852ef/loans3.txt'"
   ]
  },
  {
   "cell_type": "raw",
   "id": "8c9c91d9-14d3-4357-87af-09edca37c3c7",
   "metadata": {},
   "source": [
    "DOWNLOADING A FILE USING URL AND SAVING AT SPECIFIED LOCATION.  '.' SPECIES CURRENT LOCATION EX ./DATA/LOANS1.TXT"
   ]
  },
  {
   "cell_type": "code",
   "execution_count": 32,
   "id": "9598594f-8b3a-4c8d-b704-6e9b50ce8c7d",
   "metadata": {},
   "outputs": [
    {
     "data": {
      "text/plain": [
       "('./data/loans3.txt', <http.client.HTTPMessage at 0x2a7f0148410>)"
      ]
     },
     "execution_count": 32,
     "metadata": {},
     "output_type": "execute_result"
    }
   ],
   "source": [
    "from urllib.request import urlretrieve\n",
    "urlretrieve(url1,'./data/loans1.txt')\n",
    "urlretrieve(url2,'./data/loans2.txt')\n",
    "urlretrieve(url3,'./data/loans3.txt')"
   ]
  },
  {
   "cell_type": "code",
   "execution_count": 33,
   "id": "e4167b95-8b42-4e24-9ddb-f0a227586fff",
   "metadata": {},
   "outputs": [
    {
     "data": {
      "text/plain": [
       "['.ipynb_checkpoints', 'loans1.txt', 'loans2.txt', 'loans3.txt']"
      ]
     },
     "execution_count": 33,
     "metadata": {},
     "output_type": "execute_result"
    }
   ],
   "source": [
    "os.listdir('./data')#checking whether files downloaded in data or not "
   ]
  },
  {
   "cell_type": "raw",
   "id": "eb379abf-a04d-460a-ab6d-367ed5e9bbaf",
   "metadata": {},
   "source": [
    "OPENING A FILE READING CONTENTS AND THEN CLOSE IT "
   ]
  },
  {
   "cell_type": "code",
   "execution_count": 3,
   "id": "9e7e32b0-a857-4e14-86eb-879c2568950d",
   "metadata": {},
   "outputs": [
    {
     "name": "stdout",
     "output_type": "stream",
     "text": [
      "amount,duration,rate,down_payment\n",
      "100000,36,0.08,20000\n",
      "200000,12,0.1,\n",
      "628400,120,0.12,100000\n",
      "4637400,240,0.06,\n",
      "42900,90,0.07,8900\n",
      "916000,16,0.13,\n",
      "45230,48,0.08,4300\n",
      "991360,99,0.08,\n",
      "423000,27,0.09,47200\n"
     ]
    }
   ],
   "source": [
    "file1=open('./data/loans1.txt','r')\n",
    "data=file1.read()\n",
    "print(data)\n",
    "file1.close()"
   ]
  },
  {
   "cell_type": "raw",
   "id": "523370a8-dfb5-47ce-b03a-b06b3c888852",
   "metadata": {},
   "source": [
    "to close file automatically we use with"
   ]
  },
  {
   "cell_type": "code",
   "execution_count": 4,
   "id": "6b968b78-c4bc-46bb-8e37-415bf121815c",
   "metadata": {},
   "outputs": [
    {
     "name": "stdout",
     "output_type": "stream",
     "text": [
      "amount,duration,rate,down_payment\n",
      "100000,36,0.08,20000\n",
      "200000,12,0.1,\n",
      "628400,120,0.12,100000\n",
      "4637400,240,0.06,\n",
      "42900,90,0.07,8900\n",
      "916000,16,0.13,\n",
      "45230,48,0.08,4300\n",
      "991360,99,0.08,\n",
      "423000,27,0.09,47200\n"
     ]
    }
   ],
   "source": [
    "with open('./data/loans1.txt','r') as file1:\n",
    "    print(file1.read())"
   ]
  },
  {
   "cell_type": "raw",
   "id": "134d8f63-6c6c-4894-bcc0-44be939ba516",
   "metadata": {},
   "source": [
    "READ LINE BY LINE "
   ]
  },
  {
   "cell_type": "code",
   "execution_count": 10,
   "id": "1159b67a-294f-4860-95bc-85b54286a157",
   "metadata": {},
   "outputs": [
    {
     "name": "stdout",
     "output_type": "stream",
     "text": [
      "['amount,duration,rate,down_payment\\n', '100000,36,0.08,20000\\n', '200000,12,0.1,\\n', '628400,120,0.12,100000\\n', '4637400,240,0.06,\\n', '42900,90,0.07,8900\\n', '916000,16,0.13,\\n', '45230,48,0.08,4300\\n', '991360,99,0.08,\\n', '423000,27,0.09,47200']\n"
     ]
    },
    {
     "data": {
      "text/plain": [
       "'amount,duration,rate,down_payment'"
      ]
     },
     "execution_count": 10,
     "metadata": {},
     "output_type": "execute_result"
    }
   ],
   "source": [
    "with open('./data/loans1.txt','r') as file1:\n",
    "    data=file1.readlines()\n",
    "    print(data)\n",
    "print(data[0].strip())#removes the new line character"
   ]
  },
  {
   "cell_type": "raw",
   "id": "39a2d3e8-55c6-4cc1-96f6-6be69c9ada90",
   "metadata": {},
   "source": [
    "Processing data from files\n",
    "\n",
    "Before performing any operations on the data stored in a file, we need to convert the file's contents from one large string into Python data types. For the file loans1.txt containing information about loans in a CSV format, we can do the following:\n",
    "\n",
    "Read the file line by line\n",
    "Parse the first line to get a list of the column names or headers\n",
    "Split each remaining line and convert each value into a float\n",
    "Create a dictionary for each loan using the headers as keys\n",
    "Create a list of dictionaries to keep track of all the loans\n",
    "Since we will perform the same operations for multiple files, it would be useful to define a function read_csv. We'll also define some helper functions to build up the functionality step by step.\n",
    "https://www.youtube.com/watch?v=GPVsHOlRBBI"
   ]
  }
 ],
 "metadata": {
  "kernelspec": {
   "display_name": "Python 3 (ipykernel)",
   "language": "python",
   "name": "python3"
  },
  "language_info": {
   "codemirror_mode": {
    "name": "ipython",
    "version": 3
   },
   "file_extension": ".py",
   "mimetype": "text/x-python",
   "name": "python",
   "nbconvert_exporter": "python",
   "pygments_lexer": "ipython3",
   "version": "3.11.1"
  }
 },
 "nbformat": 4,
 "nbformat_minor": 5
}
