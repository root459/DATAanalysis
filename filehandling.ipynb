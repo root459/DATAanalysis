{
 "cells": [
  {
   "cell_type": "code",
   "execution_count": 22,
   "id": "2ad53e90-7064-45d4-9e3e-681a443a82d0",
   "metadata": {},
   "outputs": [],
   "source": [
    "import os\n",
    "os.getcwd()#tells current working directory\n",
    "os.listdir('.')#lists all directories\n",
    "os.makedirs('./data',exist_ok=True)\n",
    "#create a folder in current directory '.' is used for making in the current directory\n",
    "#When exist_ok is set to True, it ensures that the function does not raise an error if the directory already exists. if false then error occurs.\n"
   ]
  },
  {
   "cell_type": "code",
   "execution_count": 24,
   "id": "3f0cf981-538a-404a-8be8-6e22176e632e",
   "metadata": {},
   "outputs": [
    {
     "data": {
      "text/plain": [
       "[]"
      ]
     },
     "execution_count": 24,
     "metadata": {},
     "output_type": "execute_result"
    }
   ],
   "source": [
    "os.listdir('./data')#contents in data is empty so showing nothing"
   ]
  },
  {
   "cell_type": "code",
   "execution_count": 28,
   "id": "f4887b71-b69d-4679-b9a2-e0b825453ea3",
   "metadata": {},
   "outputs": [
    {
     "data": {
      "text/plain": [
       "[]"
      ]
     },
     "execution_count": 28,
     "metadata": {},
     "output_type": "execute_result"
    }
   ],
   "source": [
    "os.listdir('./data') # absolute path"
   ]
  },
  {
   "cell_type": "code",
   "execution_count": 30,
   "id": "4ccbef33-e8b5-4b1f-9a9b-a09fff7c06a7",
   "metadata": {},
   "outputs": [],
   "source": [
    "url1 = 'https://gist.githubusercontent.com/aakashns/257f6e6c8719c17d0e498ea287d1a386/raw/7def9ef4234ddf0bc82f855ad67dac8b971852ef/loans1.txt'\n",
    "url2 = 'https://gist.githubusercontent.com/aakashns/257f6e6c8719c17d0e498ea287d1a386/raw/7def9ef4234ddf0bc82f855ad67dac8b971852ef/loans2.txt'\n",
    "url3 = 'https://gist.githubusercontent.com/aakashns/257f6e6c8719c17d0e498ea287d1a386/raw/7def9ef4234ddf0bc82f855ad67dac8b971852ef/loans3.txt'"
   ]
  },
  {
   "cell_type": "raw",
   "id": "8c9c91d9-14d3-4357-87af-09edca37c3c7",
   "metadata": {},
   "source": [
    "DOWNLOADING A FILE USING URL AND SAVING AT SPECIFIED LOCATION.  '.' SPECIES CURRENT LOCATION EX ./DATA/LOANS1.TXT"
   ]
  },
  {
   "cell_type": "code",
   "execution_count": 32,
   "id": "9598594f-8b3a-4c8d-b704-6e9b50ce8c7d",
   "metadata": {},
   "outputs": [
    {
     "data": {
      "text/plain": [
       "('./data/loans3.txt', <http.client.HTTPMessage at 0x2a7f0148410>)"
      ]
     },
     "execution_count": 32,
     "metadata": {},
     "output_type": "execute_result"
    }
   ],
   "source": [
    "from urllib.request import urlretrieve\n",
    "urlretrieve(url1,'./data/loans1.txt')\n",
    "urlretrieve(url2,'./data/loans2.txt')\n",
    "urlretrieve(url3,'./data/loans3.txt')"
   ]
  },
  {
   "cell_type": "code",
   "execution_count": 33,
   "id": "e4167b95-8b42-4e24-9ddb-f0a227586fff",
   "metadata": {},
   "outputs": [
    {
     "data": {
      "text/plain": [
       "['.ipynb_checkpoints', 'loans1.txt', 'loans2.txt', 'loans3.txt']"
      ]
     },
     "execution_count": 33,
     "metadata": {},
     "output_type": "execute_result"
    }
   ],
   "source": [
    "os.listdir('./data')#checking whether files downloaded in data or not "
   ]
  }
 ],
 "metadata": {
  "kernelspec": {
   "display_name": "Python 3 (ipykernel)",
   "language": "python",
   "name": "python3"
  },
  "language_info": {
   "codemirror_mode": {
    "name": "ipython",
    "version": 3
   },
   "file_extension": ".py",
   "mimetype": "text/x-python",
   "name": "python",
   "nbconvert_exporter": "python",
   "pygments_lexer": "ipython3",
   "version": "3.11.1"
  }
 },
 "nbformat": 4,
 "nbformat_minor": 5
}
