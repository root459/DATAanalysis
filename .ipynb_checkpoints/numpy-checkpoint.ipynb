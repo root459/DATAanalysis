{
 "cells": [
  {
   "cell_type": "code",
   "execution_count": 1,
   "id": "b034c8ef-5641-4c7d-929a-8ee72a747b21",
   "metadata": {},
   "outputs": [
    {
     "name": "stdout",
     "output_type": "stream",
     "text": [
      "(1, 4)\n",
      "(2, 5)\n",
      "(3, 6)\n",
      "32\n"
     ]
    }
   ],
   "source": [
    "x=[1,2,3]\n",
    "y=[4,5,6]\n",
    "#about zip function\n",
    "#zip() makes the pairs of arguments that have passed\n",
    "for i in zip(x,y):\n",
    "    print(i)\n",
    "result=0\n",
    "\n",
    "#lets perform a operation without numpy\n",
    "\n",
    "for j,k in zip(x,y):\n",
    "    result=result + j*k\n",
    "print(result)\n",
    "    "
   ]
  },
  {
   "cell_type": "raw",
   "id": "50cb2dd8-7ee2-4af1-b2b0-ed42e80dd0bc",
   "metadata": {},
   "source": [
    "WE CAN DO THIS VERY EASILY USING NUMPY ARRAYS SO LETS MOVE TO NUMPY because numpy functions are written in c++ so makes it faster than normal python looops and functions\n"
   ]
  },
  {
   "cell_type": "code",
   "execution_count": 2,
   "id": "c7c5ad28-546c-4101-adf7-5f0ce0477f06",
   "metadata": {},
   "outputs": [
    {
     "name": "stdout",
     "output_type": "stream",
     "text": [
      "32\n"
     ]
    },
    {
     "data": {
      "text/plain": [
       "32"
      ]
     },
     "execution_count": 2,
     "metadata": {},
     "output_type": "execute_result"
    }
   ],
   "source": [
    "import numpy as np\n",
    "x=np.array([1,2,3])\n",
    "y=np.array([4,5,6])\n",
    "#lets perform above operation easily using numpy\n",
    "print(np.dot(x,y))\n",
    "#other way numpy suppport arithmetic also\n",
    "(x*y).sum()\n"
   ]
  },
  {
   "cell_type": "raw",
   "id": "929125fb-93d0-40d4-adad-fa4d1df5026a",
   "metadata": {},
   "source": [
    "we can make 1d 2d 3d any dimensional array in numpy and can check them using .shape ex-"
   ]
  },
  {
   "cell_type": "code",
   "execution_count": 3,
   "id": "0c5c6c3d-839d-4c61-9a78-2ba82544c555",
   "metadata": {},
   "outputs": [
    {
     "data": {
      "text/plain": [
       "(5, 3)"
      ]
     },
     "execution_count": 3,
     "metadata": {},
     "output_type": "execute_result"
    }
   ],
   "source": [
    "climate_data=np.array([[34,54,56]\n",
    "                       ,[45,65,67]\n",
    "                       ,[54,34,23]\n",
    "                       ,[23,54,76],\n",
    "                       [67,23,56]])\n",
    "climate_data.shape\n",
    "#so its a 2d"
   ]
  },
  {
   "cell_type": "code",
   "execution_count": 4,
   "id": "a5b813ea-aeb1-4fa1-aea6-5438f025a54a",
   "metadata": {},
   "outputs": [
    {
     "data": {
      "text/plain": [
       "(2, 2, 3)"
      ]
     },
     "execution_count": 4,
     "metadata": {},
     "output_type": "execute_result"
    }
   ],
   "source": [
    "# 3D array \n",
    "arr3 = np.array([\n",
    "    [[11, 12, 13], \n",
    "     [13, 14, 15]],\n",
    "\n",
    "    \n",
    "    [[15, 16, 17], \n",
    "     [17, 18, 19.5]]])\n",
    "arr3.shape\n"
   ]
  },
  {
   "cell_type": "raw",
   "id": "62f6d33a-f3c0-4b40-ad8f-3fd4d07ea6a2",
   "metadata": {},
   "source": [
    "ALL THE ELEMENTS IN NUMPY ARRAY SHOULD HAVE SAME DATATYPE CAN BE CHECKED BY .dtype for ex-\n",
    "and if any no. is float then all changes to float \n",
    " "
   ]
  },
  {
   "cell_type": "code",
   "execution_count": 5,
   "id": "b8fb5da9-fe6d-4f71-a33a-ae6f8ff16bd4",
   "metadata": {},
   "outputs": [
    {
     "data": {
      "text/plain": [
       "dtype('int32')"
      ]
     },
     "execution_count": 5,
     "metadata": {},
     "output_type": "execute_result"
    }
   ],
   "source": [
    "weights=np.array([1,2,3])\n",
    "weights.dtype"
   ]
  },
  {
   "cell_type": "raw",
   "id": "f1e4a6c1-265e-47cb-a9ec-ff54d8cf399b",
   "metadata": {},
   "source": [
    "MATRIX MULTIPLICATION in python using numpy"
   ]
  },
  {
   "cell_type": "code",
   "execution_count": 6,
   "id": "cbcad5aa-c50d-4a22-9fc6-20911d33d830",
   "metadata": {},
   "outputs": [
    {
     "name": "stdout",
     "output_type": "stream",
     "text": [
      "[310 376 191 359 281]\n"
     ]
    }
   ],
   "source": [
    "print(np.matmul(climate_data,weights))"
   ]
  },
  {
   "cell_type": "code",
   "execution_count": 7,
   "id": "8de2e5bd-cc98-4610-aaa2-280b9c7605e3",
   "metadata": {},
   "outputs": [
    {
     "name": "stdout",
     "output_type": "stream",
     "text": [
      "[310 376 191 359 281]\n"
     ]
    }
   ],
   "source": [
    "print(climate_data @ weights)# another way for matrix multiplication "
   ]
  },
  {
   "cell_type": "raw",
   "id": "da669da7-7da4-4aaa-ab98-88e8163f9772",
   "metadata": {},
   "source": [
    "working with csv files\n"
   ]
  },
  {
   "cell_type": "code",
   "execution_count": 8,
   "id": "b50840f2-f967-475b-974f-2f4473ba29ca",
   "metadata": {},
   "outputs": [
    {
     "data": {
      "text/plain": [
       "('climate.txt', <http.client.HTTPMessage at 0x1f1943c82d0>)"
      ]
     },
     "execution_count": 8,
     "metadata": {},
     "output_type": "execute_result"
    }
   ],
   "source": [
    "import urllib.request\n",
    "urllib.request.urlretrieve('https://gist.github.com/BirajCoder/a4ffcb76fd6fb221d76ac2ee2b8584e9/raw/4054f90adfd361b7aa4255e99c2e874664094cea/climate.csv', \n",
    "    'climate.txt')"
   ]
  },
  {
   "cell_type": "raw",
   "id": "c358fde9-9b95-4db7-aed8-b0151b33332b",
   "metadata": {},
   "source": [
    "numpy.genfromtxt(fname, dtype=float, delimiter=None, skip_header=0, names=True)\n",
    " function is used to load data from a text file into a NumPy array. \n",
    "fname: The file name or a file-like object containing the data.\n",
    "dtype: Data type of the resulting array. By default, it's set to float, but you can specify other data types.\n",
    "delimiter: The delimiter used in the text file to separate values. If not specified, whitespace is used as the default.\n",
    "skip_header: Number of lines to skip at the beginning of the file.\n",
    "names: If True, the first row is assumed to be column names. This parameter is used to create structured arrays with named fields."
   ]
  },
  {
   "cell_type": "code",
   "execution_count": 9,
   "id": "7c5b2852-8487-4c60-8b40-43d17105b539",
   "metadata": {},
   "outputs": [],
   "source": [
    "climate_datas=np.genfromtxt('climate.txt', dtype=float, delimiter=\",\", skip_header=1)"
   ]
  },
  {
   "cell_type": "code",
   "execution_count": 10,
   "id": "25011d84-6e44-48d9-ab8e-8dfac42dd81d",
   "metadata": {
    "scrolled": true
   },
   "outputs": [
    {
     "name": "stdout",
     "output_type": "stream",
     "text": [
      "[474. 379. 380. ... 397. 485. 398.]\n",
      "(10000,)\n"
     ]
    }
   ],
   "source": [
    "\n",
    "climate_datas.shape\n",
    "yields=climate_datas @ weights\n",
    "print(yields)\n",
    "print(yields.shape)"
   ]
  },
  {
   "cell_type": "raw",
   "id": "a2c2a97b-a740-46e8-9f38-642b519d591b",
   "metadata": {},
   "source": [
    "NOW WE WANT TO ADD A COLUMNS IN CLIMATE DATAS A 4TH COLUMN THAT CAN BE DONE BY CONCATENATING\n",
    "[temperature,rainfall,humidity] ==>> [temperature,rainfall,humidity,YIELD]\n"
   ]
  },
  {
   "cell_type": "code",
   "execution_count": 11,
   "id": "16f696b0-b2e3-42c3-baed-de7261f979e0",
   "metadata": {},
   "outputs": [
    {
     "data": {
      "text/plain": [
       "array([[ 25.,  76.,  99., 474.],\n",
       "       [ 39.,  65.,  70., 379.],\n",
       "       [ 59.,  45.,  77., 380.],\n",
       "       ...,\n",
       "       [ 99.,  62.,  58., 397.],\n",
       "       [ 70.,  71.,  91., 485.],\n",
       "       [ 92.,  39.,  76., 398.]])"
      ]
     },
     "execution_count": 11,
     "metadata": {},
     "output_type": "execute_result"
    }
   ],
   "source": [
    "climate_results=np.concatenate((climate_datas,yields.reshape(10000,1)),axis=1)\n",
    "climate_results"
   ]
  },
  {
   "cell_type": "raw",
   "id": "5039f14f-bb47-480f-8b85-215146e6856d",
   "metadata": {},
   "source": [
    "RESHAPE IN NUMPY\n",
    "original_array = np.array([1, 2, 3, 4, 5, 6])\n",
    "new_array = original_array.reshape((2, 3))\n",
    "array([[1, 2, 3],\n",
    "       [4, 5, 6]])\n",
    "\n",
    "IMPORTANT NOTES:\n",
    "The total number of elements in the original array must match the total number of elements in the new shape. For example, the original array had 6 elements, and the new shape (2, 3) also results in 6 elements.\n",
    "\n",
    "Reshaping doesn't modify the original array; it returns a new array with the specified shape.\n",
    "\n",
    "The dimensions in the new shape must be compatible with the total number of elements. In other words, the product of the dimensions in the new shape must be equal to the total number of elements in the original array."
   ]
  },
  {
   "cell_type": "raw",
   "id": "f9dd980b-28bd-4038-90bc-fcd3560050ed",
   "metadata": {},
   "source": [
    "numpy.savetxt(fname, X, fmt='%.18e', delimiter=' ', newline='\\n', header='', footer='', comments='# ')\n",
    "\n",
    "note::\n",
    "fname: The name of the file to which the data will be saved.\n",
    "X: The data (usually a NumPy array) that you want to save to the file.\n",
    "fmt: A string specifying the format of the data in the text file. It uses C-style formatting codes. The default is '%.18e', which represents a floating-point number in scientific notation.\n",
    "delimiter: The delimiter used to separate values in the file. The default is a space.\n",
    "newline: The string that separates lines in the file. The default is a newline character ('\\n').\n",
    "header: A string that is written at the beginning of the file.\n",
    "footer: A string that is written at the end of the file.\n",
    "comments: A string used to indicate comment lines. The default is '#'."
   ]
  },
  {
   "cell_type": "code",
   "execution_count": 12,
   "id": "6394c2cb-d868-4cb8-b1ff-0f51dae7f625",
   "metadata": {},
   "outputs": [],
   "source": [
    "np.savetxt('climate_results.txt',climate_results,fmt='%.2f',header='temperature,rainfall,humidity,yeild_apples',comments='')\n"
   ]
  },
  {
   "cell_type": "raw",
   "id": "dd32801a-afd1-49f3-bd35-980babaa8b52",
   "metadata": {},
   "source": [
    "Arithmetic operations on Numpy arrays"
   ]
  },
  {
   "cell_type": "code",
   "execution_count": 17,
   "id": "0f9a25c6-7716-4fc2-9d6e-2ac745216474",
   "metadata": {},
   "outputs": [
    {
     "name": "stdout",
     "output_type": "stream",
     "text": [
      "[[ 4  5  6  7]\n",
      " [ 6  8  9 10]]\n",
      "[[ 8 10 12 11]\n",
      " [ 4  7  9 11]]\n"
     ]
    }
   ],
   "source": [
    "ar1=np.array([[1,2,3,4],[3,5,6,7]])\n",
    "ar2=np.array([[7,8,9,7],[1,2,3,4]])\n",
    "print(ar1 + 3)#add 3 to every element\n",
    "print(ar1 + ar2)# add elements corresponding to each other element wise\n"
   ]
  },
  {
   "cell_type": "raw",
   "id": "bbcdcce2-9486-43c7-9f85-63d0a069f1e6",
   "metadata": {},
   "source": [
    "Numpy supports broadcasting also.allow arithmetic operations bw two array have a diff number of dimensions for ex-->"
   ]
  },
  {
   "cell_type": "code",
   "execution_count": 23,
   "id": "7e01c0b6-4f99-43ed-80d5-fa55af9094a1",
   "metadata": {},
   "outputs": [
    {
     "name": "stdout",
     "output_type": "stream",
     "text": [
      "(2, 4)\n",
      "(4,)\n",
      "[[2 3 4 5]\n",
      " [4 6 7 8]]\n"
     ]
    }
   ],
   "source": [
    "ar3=np.array([1,1,1,1])\n",
    "print(ar1.shape)\n",
    "print(ar3.shape)\n",
    "#ar3 will replicate itself to become shape(2,4) and then add to ar1\n",
    "#but shape should be compatible so can be replicated \n",
    "print(ar1+ar3)"
   ]
  },
  {
   "cell_type": "raw",
   "id": "e8e1efaa-13be-4217-9cad-a52522aa914b",
   "metadata": {},
   "source": [
    "NUMPY also supports comparison operators like ==,!=,> etc and result is array of booleans"
   ]
  },
  {
   "cell_type": "code",
   "execution_count": 30,
   "id": "b5d93e84-0a3a-4300-a6c3-ccbc5ac68816",
   "metadata": {},
   "outputs": [
    {
     "name": "stdout",
     "output_type": "stream",
     "text": [
      "[[False False False False]\n",
      " [False False False False]]\n",
      "[[ True  True  True  True]\n",
      " [ True  True  True  True]]\n",
      "[[False False False False]\n",
      " [ True  True  True  True]]\n",
      "[[ True  True  True  True]\n",
      " [False False False False]]\n"
     ]
    },
    {
     "data": {
      "text/plain": [
       "0"
      ]
     },
     "execution_count": 30,
     "metadata": {},
     "output_type": "execute_result"
    }
   ],
   "source": [
    "print(ar1==ar2)\n",
    "print(ar1!=ar2)\n",
    "print(ar1>ar2)\n",
    "print(ar1<ar2)\n",
    "(ar1==ar2).sum() #gives how many elements are equal true=1 false=0"
   ]
  },
  {
   "cell_type": "raw",
   "id": "60363fed-5695-4556-8dcd-7baf2bbf62bf",
   "metadata": {},
   "source": [
    "Array Indexing and Slicing"
   ]
  },
  {
   "cell_type": "code",
   "execution_count": 38,
   "id": "f9f85643-4db5-4079-9854-4b600bad4d1a",
   "metadata": {},
   "outputs": [
    {
     "name": "stdout",
     "output_type": "stream",
     "text": [
      "(3, 2, 4)\n",
      "12.0\n",
      "[[11. 12. 13. 14.]\n",
      " [13. 14. 15. 19.]]\n",
      "[13. 14. 15. 19.]\n"
     ]
    }
   ],
   "source": [
    "arr4 = np.array([\n",
    "    [[11, 12, 13, 14], \n",
    "     [13, 14, 15, 19]], \n",
    "    \n",
    "    [[15, 16, 17, 21], \n",
    "     [63, 92, 36, 18]], \n",
    "    \n",
    "    [[98, 32, 81, 23],      \n",
    "     [17, 18, 19.5, 43]]])\n",
    "print(arr4.shape)\n",
    "print(arr4[0,0,1])\n",
    "print(arr4[0])\n",
    "print(arr4[0,1])\n"
   ]
  },
  {
   "cell_type": "raw",
   "id": "dbad8362-d24d-4e2c-869e-3e6ca105ce2d",
   "metadata": {},
   "source": [
    "random.rand(3) generates random numbers from a uniform distribution in the interval [0, 1].\n",
    "random.randn(2, 3) generates random numbers from a standard normal distribution with mean 0 and standard deviation 1."
   ]
  },
  {
   "cell_type": "code",
   "execution_count": 41,
   "id": "2ea04950-a64e-4e80-b9fe-5cc794a0d567",
   "metadata": {},
   "outputs": [
    {
     "name": "stdout",
     "output_type": "stream",
     "text": [
      "[[0.47669817 0.57029857 0.43414996 0.67169223]\n",
      " [0.87885072 0.4069993  0.30030415 0.02899067]]\n",
      "[[-1.63723197 -1.06778428  0.15600881  0.40803191]\n",
      " [-0.3873773  -0.15669139 -1.79938273 -1.88573076]]\n"
     ]
    }
   ],
   "source": [
    "print(np.random.rand(2,4))\n",
    "print(np.random.randn(2,4))"
   ]
  },
  {
   "cell_type": "code",
   "execution_count": 43,
   "id": "ea36288a-dbdb-4ec5-875d-3d04e3bd13e5",
   "metadata": {},
   "outputs": [
    {
     "name": "stdout",
     "output_type": "stream",
     "text": [
      "[[42 42 42]\n",
      " [42 42 42]]\n"
     ]
    }
   ],
   "source": [
    "print(np.full([2,3],42))#creates a array with each value 42"
   ]
  },
  {
   "cell_type": "code",
   "execution_count": 53,
   "id": "a274193e-9793-4efa-ae75-0cdb61d6b082",
   "metadata": {},
   "outputs": [
    {
     "name": "stdout",
     "output_type": "stream",
     "text": [
      "[ 7  9 11 13 15 17 19 21 23 25 27 29 31 33 35 37 39]\n",
      "[[0 1 2]\n",
      " [3 4 5]]\n"
     ]
    }
   ],
   "source": [
    "#Range with start,end and step\n",
    "ar5=np.arange(7,40,2)\n",
    "print(ar5)\n",
    "#creating 2d array with arange\n",
    "ar6=np.arange(0,6)#[0,1,2,3,4,5]\n",
    "print(np.arange(0,6).reshape(2,3))"
   ]
  },
  {
   "cell_type": "code",
   "execution_count": 54,
   "id": "0d171e9c-bb69-4e83-b3a6-cbc30c2ac359",
   "metadata": {},
   "outputs": [
    {
     "data": {
      "text/plain": [
       "array([ 3.,  9., 15., 21., 27.])"
      ]
     },
     "execution_count": 54,
     "metadata": {},
     "output_type": "execute_result"
    }
   ],
   "source": [
    "#equally spaced numbers in a range \n",
    "np.linspace(3,27,5)"
   ]
  },
  {
   "cell_type": "raw",
   "id": "95e1d20c-8114-411a-a693-54d32da278fd",
   "metadata": {},
   "source": []
  }
 ],
 "metadata": {
  "kernelspec": {
   "display_name": "Python 3 (ipykernel)",
   "language": "python",
   "name": "python3"
  },
  "language_info": {
   "codemirror_mode": {
    "name": "ipython",
    "version": 3
   },
   "file_extension": ".py",
   "mimetype": "text/x-python",
   "name": "python",
   "nbconvert_exporter": "python",
   "pygments_lexer": "ipython3",
   "version": "3.11.1"
  }
 },
 "nbformat": 4,
 "nbformat_minor": 5
}
