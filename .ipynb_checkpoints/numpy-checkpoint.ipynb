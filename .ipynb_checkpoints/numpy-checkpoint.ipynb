{
 "cells": [
  {
   "cell_type": "code",
   "execution_count": 17,
   "id": "b034c8ef-5641-4c7d-929a-8ee72a747b21",
   "metadata": {},
   "outputs": [
    {
     "name": "stdout",
     "output_type": "stream",
     "text": [
      "(1, 4)\n",
      "(2, 5)\n",
      "(3, 6)\n",
      "32\n"
     ]
    }
   ],
   "source": [
    "x=[1,2,3]\n",
    "y=[4,5,6]\n",
    "#about zip function\n",
    "#zip() makes the pairs of arguments that have passed\n",
    "for i in zip(x,y):\n",
    "    print(i)\n",
    "result=0\n",
    "\n",
    "#lets perform a operation without numpy\n",
    "\n",
    "for j,k in zip(x,y):\n",
    "    result=result + j*k\n",
    "print(result)\n",
    "    "
   ]
  },
  {
   "cell_type": "raw",
   "id": "50cb2dd8-7ee2-4af1-b2b0-ed42e80dd0bc",
   "metadata": {},
   "source": [
    "WE CAN DO THIS VERY EASILY USING NUMPY ARRAYS SO LETS MOVE TO NUMPY because numpy functions are written in c++ so makes it faster than normal python looops and functions\n"
   ]
  },
  {
   "cell_type": "code",
   "execution_count": 18,
   "id": "c7c5ad28-546c-4101-adf7-5f0ce0477f06",
   "metadata": {},
   "outputs": [
    {
     "name": "stdout",
     "output_type": "stream",
     "text": [
      "32\n"
     ]
    },
    {
     "data": {
      "text/plain": [
       "32"
      ]
     },
     "execution_count": 18,
     "metadata": {},
     "output_type": "execute_result"
    }
   ],
   "source": [
    "import numpy as np\n",
    "x=np.array([1,2,3])\n",
    "y=np.array([4,5,6])\n",
    "#lets perform above operation easily using numpy\n",
    "print(np.dot(x,y))\n",
    "#other way numpy suppport arithmetic also\n",
    "(x*y).sum()\n"
   ]
  },
  {
   "cell_type": "raw",
   "id": "929125fb-93d0-40d4-adad-fa4d1df5026a",
   "metadata": {},
   "source": [
    "we can make 1d 2d 3d any dimensional array in numpy and can check them using .shape ex-"
   ]
  },
  {
   "cell_type": "code",
   "execution_count": 22,
   "id": "0c5c6c3d-839d-4c61-9a78-2ba82544c555",
   "metadata": {},
   "outputs": [
    {
     "data": {
      "text/plain": [
       "(5, 3)"
      ]
     },
     "execution_count": 22,
     "metadata": {},
     "output_type": "execute_result"
    }
   ],
   "source": [
    "climate_data=np.array([[34,54,56]\n",
    "                       ,[45,65,67]\n",
    "                       ,[54,34,23]\n",
    "                       ,[23,54,76],\n",
    "                       [67,23,56]])\n",
    "climate_data.shape\n",
    "#so its a 2d"
   ]
  },
  {
   "cell_type": "code",
   "execution_count": 28,
   "id": "a5b813ea-aeb1-4fa1-aea6-5438f025a54a",
   "metadata": {},
   "outputs": [
    {
     "data": {
      "text/plain": [
       "(2, 2, 3)"
      ]
     },
     "execution_count": 28,
     "metadata": {},
     "output_type": "execute_result"
    }
   ],
   "source": [
    "# 3D array \n",
    "arr3 = np.array([\n",
    "    [[11, 12, 13], \n",
    "     [13, 14, 15]],\n",
    "\n",
    "    \n",
    "    [[15, 16, 17], \n",
    "     [17, 18, 19.5]]])\n",
    "arr3.shape\n"
   ]
  },
  {
   "cell_type": "raw",
   "id": "62f6d33a-f3c0-4b40-ad8f-3fd4d07ea6a2",
   "metadata": {},
   "source": [
    "ALL THE ELEMENTS IN NUMPY ARRAY SHOULD HAVE SAME DATATYPE CAN BE CHECKED BY .dtype for ex-\n",
    "and if any no. is float then all changes to float \n",
    " "
   ]
  },
  {
   "cell_type": "code",
   "execution_count": 29,
   "id": "b8fb5da9-fe6d-4f71-a33a-ae6f8ff16bd4",
   "metadata": {},
   "outputs": [
    {
     "data": {
      "text/plain": [
       "dtype('int32')"
      ]
     },
     "execution_count": 29,
     "metadata": {},
     "output_type": "execute_result"
    }
   ],
   "source": [
    "weights=np.array([1,2,3])\n",
    "weights.dtype"
   ]
  },
  {
   "cell_type": "raw",
   "id": "f1e4a6c1-265e-47cb-a9ec-ff54d8cf399b",
   "metadata": {},
   "source": [
    "MATRIX MULTIPLICATION in python using numpy"
   ]
  },
  {
   "cell_type": "code",
   "execution_count": 32,
   "id": "cbcad5aa-c50d-4a22-9fc6-20911d33d830",
   "metadata": {},
   "outputs": [
    {
     "name": "stdout",
     "output_type": "stream",
     "text": [
      "[310 376 191 359 281]\n"
     ]
    }
   ],
   "source": [
    "print(np.matmul(climate_data,weights))"
   ]
  },
  {
   "cell_type": "code",
   "execution_count": 34,
   "id": "8de2e5bd-cc98-4610-aaa2-280b9c7605e3",
   "metadata": {},
   "outputs": [
    {
     "name": "stdout",
     "output_type": "stream",
     "text": [
      "[310 376 191 359 281]\n"
     ]
    }
   ],
   "source": [
    "print(climate_data @ weights)# another way for matrix multiplication "
   ]
  },
  {
   "cell_type": "raw",
   "id": "da669da7-7da4-4aaa-ab98-88e8163f9772",
   "metadata": {},
   "source": [
    "working with csv files\n"
   ]
  },
  {
   "cell_type": "code",
   "execution_count": 36,
   "id": "b50840f2-f967-475b-974f-2f4473ba29ca",
   "metadata": {},
   "outputs": [
    {
     "data": {
      "text/plain": [
       "('climate.txt', <http.client.HTTPMessage at 0x233ea3c4c10>)"
      ]
     },
     "execution_count": 36,
     "metadata": {},
     "output_type": "execute_result"
    }
   ],
   "source": [
    "import urllib.request\n",
    "urllib.request.urlretrieve('https://gist.github.com/BirajCoder/a4ffcb76fd6fb221d76ac2ee2b8584e9/raw/4054f90adfd361b7aa4255e99c2e874664094cea/climate.csv', \n",
    "    'climate.txt')"
   ]
  },
  {
   "cell_type": "raw",
   "id": "c358fde9-9b95-4db7-aed8-b0151b33332b",
   "metadata": {},
   "source": [
    "numpy.genfromtxt(fname, dtype=float, delimiter=None, skip_header=0, names=True)\n",
    " function is used to load data from a text file into a NumPy array. \n",
    "fname: The file name or a file-like object containing the data.\n",
    "dtype: Data type of the resulting array. By default, it's set to float, but you can specify other data types.\n",
    "delimiter: The delimiter used in the text file to separate values. If not specified, whitespace is used as the default.\n",
    "skip_header: Number of lines to skip at the beginning of the file.\n",
    "names: If True, the first row is assumed to be column names. This parameter is used to create structured arrays with named fields."
   ]
  },
  {
   "cell_type": "code",
   "execution_count": 42,
   "id": "7c5b2852-8487-4c60-8b40-43d17105b539",
   "metadata": {},
   "outputs": [],
   "source": [
    "climate_datas=np.genfromtxt('climate.txt', dtype=float, delimiter=\",\", skip_header=1)"
   ]
  },
  {
   "cell_type": "code",
   "execution_count": 49,
   "id": "25011d84-6e44-48d9-ab8e-8dfac42dd81d",
   "metadata": {
    "scrolled": true
   },
   "outputs": [
    {
     "name": "stdout",
     "output_type": "stream",
     "text": [
      "[474. 379. 380. ... 397. 485. 398.]\n",
      "(10000,)\n"
     ]
    }
   ],
   "source": [
    "\n",
    "climate_datas.shape\n",
    "yields=climate_datas @ weights\n",
    "print(yields)\n",
    "print(yields.shape)"
   ]
  },
  {
   "cell_type": "raw",
   "id": "a2c2a97b-a740-46e8-9f38-642b519d591b",
   "metadata": {},
   "source": [
    "NOW WE WANT TO ADD A COLUMNS IN CLIMATE DATAS A 4TH COLUMN THAT CAN BE DONE BY CONCATENATING\n",
    "[temperature,rainfall,humidity] ==>> [temperature,rainfall,humidity,YIELD]\n"
   ]
  },
  {
   "cell_type": "code",
   "execution_count": 55,
   "id": "16f696b0-b2e3-42c3-baed-de7261f979e0",
   "metadata": {},
   "outputs": [
    {
     "data": {
      "text/plain": [
       "array([[ 25.,  76.,  99., 474.],\n",
       "       [ 39.,  65.,  70., 379.],\n",
       "       [ 59.,  45.,  77., 380.],\n",
       "       ...,\n",
       "       [ 99.,  62.,  58., 397.],\n",
       "       [ 70.,  71.,  91., 485.],\n",
       "       [ 92.,  39.,  76., 398.]])"
      ]
     },
     "execution_count": 55,
     "metadata": {},
     "output_type": "execute_result"
    }
   ],
   "source": [
    "climate_results=np.concatenate((climate_datas,yields.reshape(10000,1)),axis=1)\n",
    "climate_results"
   ]
  },
  {
   "cell_type": "raw",
   "id": "5039f14f-bb47-480f-8b85-215146e6856d",
   "metadata": {},
   "source": [
    "RESHAPE IN NUMPY\n",
    "original_array = np.array([1, 2, 3, 4, 5, 6])\n",
    "new_array = original_array.reshape((2, 3))\n",
    "array([[1, 2, 3],\n",
    "       [4, 5, 6]])\n",
    "\n",
    "IMPORTANT NOTES:\n",
    "The total number of elements in the original array must match the total number of elements in the new shape. For example, the original array had 6 elements, and the new shape (2, 3) also results in 6 elements.\n",
    "\n",
    "Reshaping doesn't modify the original array; it returns a new array with the specified shape.\n",
    "\n",
    "The dimensions in the new shape must be compatible with the total number of elements. In other words, the product of the dimensions in the new shape must be equal to the total number of elements in the original array.\n",
    "https://www.youtube.com/watch?v=GPVsHOlRBBI\n",
    "2.52"
   ]
  }
 ],
 "metadata": {
  "kernelspec": {
   "display_name": "Python 3 (ipykernel)",
   "language": "python",
   "name": "python3"
  },
  "language_info": {
   "codemirror_mode": {
    "name": "ipython",
    "version": 3
   },
   "file_extension": ".py",
   "mimetype": "text/x-python",
   "name": "python",
   "nbconvert_exporter": "python",
   "pygments_lexer": "ipython3",
   "version": "3.11.1"
  }
 },
 "nbformat": 4,
 "nbformat_minor": 5
}
